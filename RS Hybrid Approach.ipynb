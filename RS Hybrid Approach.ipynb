{
 "cells": [
  {
   "cell_type": "code",
   "execution_count": 17,
   "metadata": {},
   "outputs": [],
   "source": [
    "#Liberaries\n",
    "import pandas as pd\n",
    "import numpy as np\n",
    "from surprise import Reader, Dataset\n",
    "from surprise import SVDpp , Dataset, SVD\n",
    "from sklearn.feature_extraction.text import TfidfVectorizer\n",
    "from sklearn.metrics.pairwise import cosine_similarity "
   ]
  },
  {
   "cell_type": "markdown",
   "metadata": {},
   "source": [
    "### Content Based Filtering"
   ]
  },
  {
   "cell_type": "code",
   "execution_count": 18,
   "metadata": {
    "scrolled": false
   },
   "outputs": [
    {
     "data": {
      "text/html": [
       "<div>\n",
       "<style scoped>\n",
       "    .dataframe tbody tr th:only-of-type {\n",
       "        vertical-align: middle;\n",
       "    }\n",
       "\n",
       "    .dataframe tbody tr th {\n",
       "        vertical-align: top;\n",
       "    }\n",
       "\n",
       "    .dataframe thead th {\n",
       "        text-align: right;\n",
       "    }\n",
       "</style>\n",
       "<table border=\"1\" class=\"dataframe\">\n",
       "  <thead>\n",
       "    <tr style=\"text-align: right;\">\n",
       "      <th></th>\n",
       "      <th>movieId</th>\n",
       "      <th>title</th>\n",
       "      <th>genres</th>\n",
       "    </tr>\n",
       "  </thead>\n",
       "  <tbody>\n",
       "    <tr>\n",
       "      <th>0</th>\n",
       "      <td>1</td>\n",
       "      <td>Toy Story (1995)</td>\n",
       "      <td>Adventure|Animation|Children|Comedy|Fantasy</td>\n",
       "    </tr>\n",
       "    <tr>\n",
       "      <th>1</th>\n",
       "      <td>2</td>\n",
       "      <td>Jumanji (1995)</td>\n",
       "      <td>Adventure|Children|Fantasy</td>\n",
       "    </tr>\n",
       "    <tr>\n",
       "      <th>2</th>\n",
       "      <td>3</td>\n",
       "      <td>Grumpier Old Men (1995)</td>\n",
       "      <td>Comedy|Romance</td>\n",
       "    </tr>\n",
       "  </tbody>\n",
       "</table>\n",
       "</div>"
      ],
      "text/plain": [
       "   movieId                    title  \\\n",
       "0        1         Toy Story (1995)   \n",
       "1        2           Jumanji (1995)   \n",
       "2        3  Grumpier Old Men (1995)   \n",
       "\n",
       "                                        genres  \n",
       "0  Adventure|Animation|Children|Comedy|Fantasy  \n",
       "1                   Adventure|Children|Fantasy  \n",
       "2                               Comedy|Romance  "
      ]
     },
     "execution_count": 18,
     "metadata": {},
     "output_type": "execute_result"
    }
   ],
   "source": [
    "#load Movie data\n",
    "movies_df = pd.read_csv(\"DataSet\\movie Data\\movies.csv\")\n",
    "movies_df.head(3)"
   ]
  },
  {
   "cell_type": "code",
   "execution_count": 19,
   "metadata": {},
   "outputs": [],
   "source": [
    "#Clean Genres\n",
    "def getCleanedGenres(x):\n",
    "    genres = x[\"genres\"].split(\"|\")\n",
    "    string =\"\"\n",
    "    for i in range(len(genres)):\n",
    "        string= string + \" \" +genres[i]\n",
    "    return string"
   ]
  },
  {
   "cell_type": "code",
   "execution_count": 20,
   "metadata": {},
   "outputs": [
    {
     "data": {
      "text/html": [
       "<div>\n",
       "<style scoped>\n",
       "    .dataframe tbody tr th:only-of-type {\n",
       "        vertical-align: middle;\n",
       "    }\n",
       "\n",
       "    .dataframe tbody tr th {\n",
       "        vertical-align: top;\n",
       "    }\n",
       "\n",
       "    .dataframe thead th {\n",
       "        text-align: right;\n",
       "    }\n",
       "</style>\n",
       "<table border=\"1\" class=\"dataframe\">\n",
       "  <thead>\n",
       "    <tr style=\"text-align: right;\">\n",
       "      <th></th>\n",
       "      <th>movieId</th>\n",
       "      <th>title</th>\n",
       "      <th>genres</th>\n",
       "    </tr>\n",
       "  </thead>\n",
       "  <tbody>\n",
       "    <tr>\n",
       "      <th>0</th>\n",
       "      <td>1</td>\n",
       "      <td>Toy Story (1995)</td>\n",
       "      <td>Adventure Animation Children Comedy Fantasy</td>\n",
       "    </tr>\n",
       "    <tr>\n",
       "      <th>1</th>\n",
       "      <td>2</td>\n",
       "      <td>Jumanji (1995)</td>\n",
       "      <td>Adventure Children Fantasy</td>\n",
       "    </tr>\n",
       "    <tr>\n",
       "      <th>2</th>\n",
       "      <td>3</td>\n",
       "      <td>Grumpier Old Men (1995)</td>\n",
       "      <td>Comedy Romance</td>\n",
       "    </tr>\n",
       "    <tr>\n",
       "      <th>3</th>\n",
       "      <td>4</td>\n",
       "      <td>Waiting to Exhale (1995)</td>\n",
       "      <td>Comedy Drama Romance</td>\n",
       "    </tr>\n",
       "    <tr>\n",
       "      <th>4</th>\n",
       "      <td>5</td>\n",
       "      <td>Father of the Bride Part II (1995)</td>\n",
       "      <td>Comedy</td>\n",
       "    </tr>\n",
       "    <tr>\n",
       "      <th>5</th>\n",
       "      <td>6</td>\n",
       "      <td>Heat (1995)</td>\n",
       "      <td>Action Crime Thriller</td>\n",
       "    </tr>\n",
       "    <tr>\n",
       "      <th>6</th>\n",
       "      <td>7</td>\n",
       "      <td>Sabrina (1995)</td>\n",
       "      <td>Comedy Romance</td>\n",
       "    </tr>\n",
       "    <tr>\n",
       "      <th>7</th>\n",
       "      <td>8</td>\n",
       "      <td>Tom and Huck (1995)</td>\n",
       "      <td>Adventure Children</td>\n",
       "    </tr>\n",
       "    <tr>\n",
       "      <th>8</th>\n",
       "      <td>9</td>\n",
       "      <td>Sudden Death (1995)</td>\n",
       "      <td>Action</td>\n",
       "    </tr>\n",
       "    <tr>\n",
       "      <th>9</th>\n",
       "      <td>10</td>\n",
       "      <td>GoldenEye (1995)</td>\n",
       "      <td>Action Adventure Thriller</td>\n",
       "    </tr>\n",
       "  </tbody>\n",
       "</table>\n",
       "</div>"
      ],
      "text/plain": [
       "   movieId                               title  \\\n",
       "0        1                    Toy Story (1995)   \n",
       "1        2                      Jumanji (1995)   \n",
       "2        3             Grumpier Old Men (1995)   \n",
       "3        4            Waiting to Exhale (1995)   \n",
       "4        5  Father of the Bride Part II (1995)   \n",
       "5        6                         Heat (1995)   \n",
       "6        7                      Sabrina (1995)   \n",
       "7        8                 Tom and Huck (1995)   \n",
       "8        9                 Sudden Death (1995)   \n",
       "9       10                    GoldenEye (1995)   \n",
       "\n",
       "                                         genres  \n",
       "0   Adventure Animation Children Comedy Fantasy  \n",
       "1                    Adventure Children Fantasy  \n",
       "2                                Comedy Romance  \n",
       "3                          Comedy Drama Romance  \n",
       "4                                        Comedy  \n",
       "5                         Action Crime Thriller  \n",
       "6                                Comedy Romance  \n",
       "7                            Adventure Children  \n",
       "8                                        Action  \n",
       "9                     Action Adventure Thriller  "
      ]
     },
     "execution_count": 20,
     "metadata": {},
     "output_type": "execute_result"
    }
   ],
   "source": [
    "#Clean Genres\n",
    "movies_df[\"genres\"] = movies_df.apply(getCleanedGenres, axis = 1)\n",
    "movies_df.sort_values(by = 'movieId', inplace=True)\n",
    "movies_df.head(10)"
   ]
  },
  {
   "cell_type": "code",
   "execution_count": 21,
   "metadata": {},
   "outputs": [],
   "source": [
    "# Prepare TFIDF For \n",
    "tfidf = TfidfVectorizer( stop_words = 'english', ngram_range=(1,2))\n",
    "movies_df[\"genres\"] = movies_df[\"genres\"].fillna(\"\")\n",
    "tvf_Matrix = tfidf.fit_transform(movies_df[\"genres\"] )\n",
    "cosine_sim = cosine_similarity(tvf_Matrix, tvf_Matrix)"
   ]
  },
  {
   "cell_type": "markdown",
   "metadata": {},
   "source": [
    "### Collaborative Filtering"
   ]
  },
  {
   "cell_type": "code",
   "execution_count": 22,
   "metadata": {
    "scrolled": true
   },
   "outputs": [
    {
     "data": {
      "text/html": [
       "<div>\n",
       "<style scoped>\n",
       "    .dataframe tbody tr th:only-of-type {\n",
       "        vertical-align: middle;\n",
       "    }\n",
       "\n",
       "    .dataframe tbody tr th {\n",
       "        vertical-align: top;\n",
       "    }\n",
       "\n",
       "    .dataframe thead th {\n",
       "        text-align: right;\n",
       "    }\n",
       "</style>\n",
       "<table border=\"1\" class=\"dataframe\">\n",
       "  <thead>\n",
       "    <tr style=\"text-align: right;\">\n",
       "      <th></th>\n",
       "      <th>userId</th>\n",
       "      <th>movieId</th>\n",
       "      <th>rating</th>\n",
       "      <th>timestamp</th>\n",
       "    </tr>\n",
       "  </thead>\n",
       "  <tbody>\n",
       "    <tr>\n",
       "      <th>0</th>\n",
       "      <td>1</td>\n",
       "      <td>1</td>\n",
       "      <td>4.0</td>\n",
       "      <td>964982703</td>\n",
       "    </tr>\n",
       "    <tr>\n",
       "      <th>1</th>\n",
       "      <td>1</td>\n",
       "      <td>3</td>\n",
       "      <td>4.0</td>\n",
       "      <td>964981247</td>\n",
       "    </tr>\n",
       "    <tr>\n",
       "      <th>2</th>\n",
       "      <td>1</td>\n",
       "      <td>6</td>\n",
       "      <td>4.0</td>\n",
       "      <td>964982224</td>\n",
       "    </tr>\n",
       "  </tbody>\n",
       "</table>\n",
       "</div>"
      ],
      "text/plain": [
       "   userId  movieId  rating  timestamp\n",
       "0       1        1     4.0  964982703\n",
       "1       1        3     4.0  964981247\n",
       "2       1        6     4.0  964982224"
      ]
     },
     "execution_count": 22,
     "metadata": {},
     "output_type": "execute_result"
    }
   ],
   "source": [
    "#Load Data\n",
    "ratings_df = pd.read_csv(\"DataSet/movie Data/ratings.csv\")\n",
    "ratings_df.head(3)"
   ]
  },
  {
   "cell_type": "code",
   "execution_count": 23,
   "metadata": {
    "scrolled": true
   },
   "outputs": [
    {
     "name": "stdout",
     "output_type": "stream",
     "text": [
      "Processing epoch 0\n",
      "Processing epoch 1\n",
      "Processing epoch 2\n",
      "Processing epoch 3\n",
      "Processing epoch 4\n",
      "Processing epoch 5\n",
      "Processing epoch 6\n",
      "Processing epoch 7\n",
      "Processing epoch 8\n",
      "Processing epoch 9\n"
     ]
    }
   ],
   "source": [
    "# Read data into Surprise dataset\n",
    "reader = Reader(rating_scale=(0, 5))\n",
    "data = Dataset.load_from_df(ratings_df[['userId', 'movieId', 'rating']], reader)\n",
    "train=data.build_full_trainset()\n",
    "\n",
    "# Train Algorithm for Collaborative filtering\n",
    "algo = SVD(n_factors=30, \n",
    "             n_epochs=10, \n",
    "             lr_all=0.005, \n",
    "             random_state=40, \n",
    "             verbose=True,)\n",
    "model = algo.fit(train)"
   ]
  },
  {
   "cell_type": "markdown",
   "metadata": {},
   "source": [
    "### Hybrid Filtering"
   ]
  },
  {
   "cell_type": "code",
   "execution_count": 24,
   "metadata": {},
   "outputs": [],
   "source": [
    "# Function for Hybrid Recommendation\n",
    "def recommendMovie(user , movie):\n",
    "    \n",
    "    results=[]   \n",
    "    \n",
    "    #get the cosine similarity for the query movie \n",
    "    query_index = movies_df[movies_df[\"movieId\"]== movie].index[0]\n",
    "    contentBasedScores = list(enumerate(cosine_sim[query_index]))\n",
    "    contentBasedScores=sorted(contentBasedScores,key=lambda x:x[1],reverse=True)\n",
    "    \n",
    "    # sorted movie indexes on cosine similarity\n",
    "    search_ids=[i[0] for i in contentBasedScores]    \n",
    "\n",
    "    rated_movies=list(ratings_df[ratings_df['userId']==user]['movieId'])\n",
    "    \n",
    "    \n",
    "    #for each movie index except query movie\n",
    "    for i in range(0,len(search_ids)):\n",
    "        \n",
    "        if(query_index != search_ids[i]):\n",
    "                \n",
    "                \n",
    "                #average rating of each movie for content based rating\n",
    "                \n",
    "                index = search_ids[i]\n",
    "                movie_id = movies_df.iloc[index][\"movieId\"]\n",
    "                ratings=ratings_df[ratings_df['movieId']== movie_id]['rating'] \n",
    "                contentBased_rating= round(np.mean(ratings),4)\n",
    "                \n",
    "                \n",
    "                if(movie_id not in rated_movies):\n",
    "                    \n",
    "                        \n",
    "                    # collaborating rating for each movie\n",
    "                    colaborativeBased_rating=round(model.predict(user,movie_id).est,4)\n",
    "\n",
    "                    #hybrid rating of each movie\n",
    "                    hybrid_rating = round(np.mean(np.array([contentBased_rating,colaborativeBased_rating]), dtype=np.float64),4)\n",
    "\n",
    "\n",
    "                    results.append((movie_id,hybrid_rating))\n",
    "    \n",
    "    # ten top recommendations \n",
    "    results=sorted(results,key=lambda x:x[1],reverse=True) \n",
    "\n",
    "    query_movie_title = movies_df[movies_df[\"movieId\"]== movie][\"title\"].iloc[0]\n",
    "    print(f\"Recommendations for user \\\"{user}\\\" and movie \\\"{query_movie_title}\\\" are follwoing:\\n\")\n",
    "    for recommendation in results[0:10]:\n",
    "        movie_title = movies_df[movies_df['movieId'] == recommendation[0]][\"title\"].iloc[0]\n",
    "        print(movie_title)"
   ]
  },
  {
   "cell_type": "code",
   "execution_count": 25,
   "metadata": {},
   "outputs": [
    {
     "name": "stdout",
     "output_type": "stream",
     "text": [
      "Recommendations for user \"1\" and movie \"Toy Story (1995)\" are follwoing:\n",
      "\n",
      "Match Factory Girl, The (Tulitikkutehtaan tyttö) (1990)\n",
      "Jonah Who Will Be 25 in the Year 2000 (Jonas qui aura 25 ans en l'an 2000) (1976)\n",
      "George Carlin: It's Bad for Ya! (2008)\n",
      "Belle époque (1992)\n",
      "Sorority House Massacre II (1990)\n",
      "Trinity and Sartana Are Coming (1972)\n",
      "Come and See (Idi i smotri) (1985)\n",
      "Shawshank Redemption, The (1994)\n",
      "Presto (2008)\n",
      "12 Chairs (1976)\n"
     ]
    }
   ],
   "source": [
    "recommendMovie(1 , 1)"
   ]
  }
 ],
 "metadata": {
  "kernelspec": {
   "display_name": "Python 3",
   "language": "python",
   "name": "python3"
  },
  "language_info": {
   "codemirror_mode": {
    "name": "ipython",
    "version": 3
   },
   "file_extension": ".py",
   "mimetype": "text/x-python",
   "name": "python",
   "nbconvert_exporter": "python",
   "pygments_lexer": "ipython3",
   "version": "3.7.1"
  }
 },
 "nbformat": 4,
 "nbformat_minor": 4
}
